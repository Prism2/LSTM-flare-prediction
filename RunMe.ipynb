{
 "cells": [
  {
   "cell_type": "code",
   "execution_count": 1,
   "id": "cc2a05ff",
   "metadata": {},
   "outputs": [
    {
     "name": "stderr",
     "output_type": "stream",
     "text": [
      "Using TensorFlow backend.\n"
     ]
    }
   ],
   "source": [
    "from LSTM_Flare import LSTM_Flare\n",
    "from sklearn.utils import class_weight\n",
    "from keras.models import *\n",
    "import numpy as np\n",
    "import csv\n"
   ]
  },
  {
   "cell_type": "code",
   "execution_count": 2,
   "id": "93b07508",
   "metadata": {},
   "outputs": [],
   "source": [
    "flare_label = 'C'\n",
    "train_again = False\n",
    "filepath = './data/LSTM_{flare_label}_sample_run/'.format(flare_label=flare_label)\n",
    "n_features = 0\n",
    "if flare_label == 'C':\n",
    "    n_features = 14\n",
    "elif flare_label == 'M':\n",
    "    n_features = 22\n",
    "elif flare_label == 'M5':\n",
    "    n_features = 20\n",
    "start_feature = 5\n",
    "mask_value = 0\n",
    "series_len = 10\n",
    "epochs = 7\n",
    "batch_size = 256\n",
    "nclass = 2\n",
    "result_file = './results/LSTM_{flare_label}_sample_run/output.csv'.format(flare_label=flare_label)"
   ]
  },
  {
   "cell_type": "code",
   "execution_count": 3,
   "id": "e49b6baa",
   "metadata": {},
   "outputs": [],
   "source": [
    "lstm_flare = LSTM_Flare()"
   ]
  },
  {
   "cell_type": "code",
   "execution_count": 4,
   "id": "845266b5",
   "metadata": {},
   "outputs": [],
   "source": [
    "if train_again:\n",
    "    # Train\n",
    "    X_train_data, y_train_data = lstm_flare.load_data(datafile=filepath + 'normalized_training.csv',\n",
    "                                           flare_label=flare_label, series_len=series_len,\n",
    "                                           start_feature=start_feature, n_features=n_features,\n",
    "                                           mask_value=mask_value)\n",
    "\n",
    "    X_train = np.array(X_train_data)\n",
    "    y_train = np.array(y_train_data)\n",
    "    y_train_tr = lstm_flare.data_transform(y_train)\n",
    "\n",
    "    class_weights = class_weight.compute_class_weight('balanced',\n",
    "                                                      np.unique(y_train), y_train)\n",
    "    class_weight_ = {0: class_weights[0], 1: class_weights[1]}\n",
    "    # print(class_weight_)\n",
    "\n",
    "    model = lstm_flare.lstm(nclass, n_features, series_len)\n",
    "    model.compile(loss='categorical_crossentropy',\n",
    "                  optimizer='adam',\n",
    "                  metrics=['accuracy'])\n",
    "\n",
    "    history = model.fit(X_train, y_train_tr,\n",
    "                        epochs=epochs, batch_size=batch_size,\n",
    "                        verbose=False, shuffle=True, class_weight=class_weight_)\n",
    "    model.save('./pretrained_model/LSTM_{flare_label}_sample_run/model.h5'.format(flare_label=flare_label))\n",
    "else:\n",
    "    model = load_model('./pretrained_model/LSTM_{flare_label}_sample_run/model.h5'.format(flare_label=flare_label))"
   ]
  },
  {
   "cell_type": "code",
   "execution_count": 5,
   "id": "83850fa1",
   "metadata": {},
   "outputs": [
    {
     "name": "stdout",
     "output_type": "stream",
     "text": [
      "(185, 10, 14)\n"
     ]
    }
   ],
   "source": [
    "# Test\n",
    "X_test_data, y_test_data = lstm_flare.load_data(datafile=filepath + 'normalized_testing.csv',\n",
    "                                     flare_label=flare_label, series_len=series_len,\n",
    "                                     start_feature=start_feature, n_features=n_features,\n",
    "                                     mask_value=mask_value)\n",
    "X_test = np.array(X_test_data)\n",
    "y_test = np.array(y_test_data)\n",
    "y_test_tr = lstm_flare.data_transform(y_test)\n",
    "\n",
    "classes = model.predict(X_test, batch_size=batch_size, verbose=0, steps=None)\n",
    "\n",
    "with open(result_file, 'w', encoding='UTF-8') as result_csv:\n",
    "    w = csv.writer(result_csv)\n",
    "    with open(filepath + 'normalized_testing.csv', encoding='UTF-8') as data_csv:\n",
    "        reader = csv.reader(data_csv)\n",
    "        i = -1\n",
    "        for line in reader:\n",
    "            if i == -1:\n",
    "                line.insert(0, 'Predicted Label')\n",
    "            else:\n",
    "                if (classes[i][0] >= 0.5 and flare_label == 'C') or (classes[i][0] >= 0.75 and flare_label == 'M5') or (classes[i][0] >= 0.6 and flare_label == 'M'):\n",
    "                    line.insert(0, 'Positive')\n",
    "                else:\n",
    "                    line.insert(0, 'Negative')\n",
    "            i += 1\n",
    "            w.writerow(line)"
   ]
  },
  {
   "cell_type": "code",
   "execution_count": null,
   "id": "1b74e4b2",
   "metadata": {},
   "outputs": [],
   "source": []
  }
 ],
 "metadata": {
  "kernelspec": {
   "display_name": "Python 3",
   "language": "python",
   "name": "python3"
  },
  "language_info": {
   "codemirror_mode": {
    "name": "ipython",
    "version": 3
   },
   "file_extension": ".py",
   "mimetype": "text/x-python",
   "name": "python",
   "nbconvert_exporter": "python",
   "pygments_lexer": "ipython3",
   "version": "3.6.8"
  }
 },
 "nbformat": 4,
 "nbformat_minor": 5
}
